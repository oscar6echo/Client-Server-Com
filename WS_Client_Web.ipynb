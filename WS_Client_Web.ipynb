{
 "cells": [
  {
   "cell_type": "code",
   "execution_count": 1,
   "metadata": {
    "collapsed": true
   },
   "outputs": [],
   "source": [
    "import os, sys\n",
    "import urllib.request"
   ]
  },
  {
   "cell_type": "markdown",
   "metadata": {},
   "source": [
    "### Download js libs to disk"
   ]
  },
  {
   "cell_type": "code",
   "execution_count": 2,
   "metadata": {
    "collapsed": false
   },
   "outputs": [
    {
     "name": "stdout",
     "output_type": "stream",
     "text": [
      "Creating js/handsontable\n",
      "Loading handsontable.full.js\n",
      "Loading handsontable.full.css\n",
      "Creating js/jquery\n",
      "Loading jquery-3.1.1.min.js\n"
     ]
    }
   ],
   "source": [
    "dic_url = {\n",
    "    'handsontable': ['https://handsontable.com/bower_components/handsontable/dist/handsontable.full.js',\n",
    "                     'https://handsontable.com/bower_components/handsontable/dist/handsontable.full.css'],\n",
    "    'jquery': ['https://code.jquery.com/jquery-3.1.1.min.js']\n",
    "}\n",
    "    \n",
    "for dirname, li_url in dic_url.items():\n",
    "    fulldirname = os.path.join('js', dirname)\n",
    "    if not os.path.exists(fulldirname):\n",
    "        print('Creating {}'.format(fulldirname))\n",
    "        os.makedirs(fulldirname)\n",
    "    for url in li_url:\n",
    "        filename = url.split('/')[-1]\n",
    "        if not os.path.exists(os.path.join(fulldirname, filename)):\n",
    "            print('Loading {}'.format(filename))            \n",
    "            urllib.request.urlretrieve(url, os.path.join(fulldirname, filename))"
   ]
  },
  {
   "cell_type": "markdown",
   "metadata": {},
   "source": [
    "### Launch website\n",
    "+ SimpleHTTPServer will serve index.html from current directory\n",
    "+ Open Browser to localhost:8099"
   ]
  },
  {
   "cell_type": "code",
   "execution_count": 3,
   "metadata": {
    "collapsed": false
   },
   "outputs": [
    {
     "name": "stdout",
     "output_type": "stream",
     "text": [
      "WS_Client_Python.ipynb  WS_Server.ipynb         index.html\r\n",
      "WS_Client_Web.ipynb     WS_Server.py            \u001b[34mjs\u001b[m\u001b[m/\r\n"
     ]
    }
   ],
   "source": [
    "% ls"
   ]
  },
  {
   "cell_type": "code",
   "execution_count": null,
   "metadata": {
    "collapsed": false,
    "scrolled": false
   },
   "outputs": [
    {
     "name": "stdout",
     "output_type": "stream",
     "text": [
      "Serving HTTP on 0.0.0.0 port 8099 ...\n",
      "127.0.0.1 - - [26/Sep/2016 21:57:55] \"GET / HTTP/1.1\" 200 -\n",
      "127.0.0.1 - - [26/Sep/2016 21:57:55] \"GET /js/handsontable/handsontable.full.css HTTP/1.1\" 200 -\n",
      "127.0.0.1 - - [26/Sep/2016 21:57:55] \"GET /js/handsontable/handsontable.full.js HTTP/1.1\" 200 -\n",
      "127.0.0.1 - - [26/Sep/2016 21:57:55] \"GET /js/jquery/jquery-3.1.1.min.js HTTP/1.1\" 200 -\n",
      "127.0.0.1 - - [26/Sep/2016 21:57:55] \"GET /js/script.js HTTP/1.1\" 200 -\n"
     ]
    }
   ],
   "source": [
    "! python -m SimpleHTTPServer 8099"
   ]
  },
  {
   "cell_type": "code",
   "execution_count": null,
   "metadata": {
    "collapsed": true
   },
   "outputs": [],
   "source": []
  }
 ],
 "metadata": {
  "kernelspec": {
   "display_name": "Python 3",
   "language": "python",
   "name": "python3"
  },
  "language_info": {
   "codemirror_mode": {
    "name": "ipython",
    "version": 3
   },
   "file_extension": ".py",
   "mimetype": "text/x-python",
   "name": "python",
   "nbconvert_exporter": "python",
   "pygments_lexer": "ipython3",
   "version": "3.5.2"
  }
 },
 "nbformat": 4,
 "nbformat_minor": 0
}
