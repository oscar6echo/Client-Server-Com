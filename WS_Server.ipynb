{
 "cells": [
  {
   "cell_type": "markdown",
   "metadata": {},
   "source": [
    "### Run WebServer\n",
    "+ File ``WS_Server.py``"
   ]
  },
  {
   "cell_type": "code",
   "execution_count": 1,
   "metadata": {
    "collapsed": false,
    "scrolled": true
   },
   "outputs": [
    {
     "name": "stdout",
     "output_type": "stream",
     "text": [
      "WS_Client_Python.ipynb  WS_Server.ipynb         index.html\r\n",
      "WS_Client_Web.ipynb     WS_Server.py            \u001b[34mjs\u001b[m\u001b[m/\r\n"
     ]
    }
   ],
   "source": [
    "% ls"
   ]
  },
  {
   "cell_type": "code",
   "execution_count": 2,
   "metadata": {
    "collapsed": false,
    "scrolled": true
   },
   "outputs": [],
   "source": [
    "# ! cat WS_Server.py"
   ]
  },
  {
   "cell_type": "code",
   "execution_count": null,
   "metadata": {
    "collapsed": false
   },
   "outputs": [
    {
     "name": "stdout",
     "output_type": "stream",
     "text": [
      " * Running on http://0.0.0.0:3000/ (Press CTRL+C to quit)\n",
      " * Restarting with stat\n",
      " * Debugger is active!\n",
      " * Debugger pin code: 114-653-686\n",
      "Server received payload =\n",
      "{u'bool': True, u'M': u'[[1, 0, 1], [2, 1, 0], [0, 3, 1]]', u'eps': 0.001, u'V': u'[1, 2, 3]'}\n",
      "Server sending payload =\n",
      "[4.001, 4.001, 9.001]\n",
      "127.0.0.1 - - [26/Sep/2016 21:56:14] \"POST /func_one HTTP/1.1\" 201 -\n",
      "Server received payload =\n",
      "{u'a': 6.5, u'b': 2}\n",
      "Server sending payload =\n",
      "13.0\n",
      "127.0.0.1 - - [26/Sep/2016 21:56:16] \"POST /func_two HTTP/1.1\" 201 -\n",
      "127.0.0.1 - - [26/Sep/2016 21:58:12] \"OPTIONS /func_one HTTP/1.1\" 200 -\n",
      "Server received payload =\n",
      "{u'bool': True, u'M': [[1, 0, 1], [2, 1, 0], [0, 3, 1]], u'eps': 0.001, u'V': [1, 2, 3]}\n",
      "Server sending payload =\n",
      "[4.001, 4.001, 9.001]\n",
      "127.0.0.1 - - [26/Sep/2016 21:58:12] \"POST /func_one HTTP/1.1\" 201 -\n"
     ]
    }
   ],
   "source": [
    "# Interrupt kernel to stop server\n",
    "! python WS_Server.py"
   ]
  },
  {
   "cell_type": "code",
   "execution_count": null,
   "metadata": {
    "collapsed": true
   },
   "outputs": [],
   "source": []
  }
 ],
 "metadata": {
  "hide_input": false,
  "kernelspec": {
   "display_name": "Python 3",
   "language": "python",
   "name": "python3"
  },
  "language_info": {
   "codemirror_mode": {
    "name": "ipython",
    "version": 3
   },
   "file_extension": ".py",
   "mimetype": "text/x-python",
   "name": "python",
   "nbconvert_exporter": "python",
   "pygments_lexer": "ipython3",
   "version": "3.5.2"
  }
 },
 "nbformat": 4,
 "nbformat_minor": 0
}
